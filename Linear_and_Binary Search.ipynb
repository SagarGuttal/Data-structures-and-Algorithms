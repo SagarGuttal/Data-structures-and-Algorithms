{
 "cells": [
  {
   "cell_type": "markdown",
   "metadata": {},
   "source": [
    "### In this notebook, we focus on solving the following problem:\n",
    "* QUESTION 1: Alice has some cards with numbers written on them. She arranges\n",
    "the cards in decreasing order, and lays them out face down in a sequence on a\n",
    "table. She challenges Bob to pick out the card containing a given number by\n",
    "turning over as few cards as possible. Write a function to help Bob locate the card.\n",
    "* This may seem like a simple problem, especially if you're familiar with the concept of binary search,\n",
    "but the strategy and technique we learning here will be widely applicable, and we'll soon use it to\n",
    "solve harder problems."
   ]
  },
  {
   "cell_type": "markdown",
   "metadata": {},
   "source": [
    "* Our function should be able to handle any set of valid inputs we pass into it. Here's a list of some\n",
    "possible variations we might encounter:\n",
    "1. The number query occurs somewhere in the middle of the list cards.\n",
    "2. query is the first element in cards.\n",
    "3. query is the last element in cards.\n",
    "4. The list cards contains just one element, which is query.\n",
    "5. The list cards does not contain number query.\n",
    "6. The list cards is empty.\n",
    "7. The list cards contains repeating numbers.\n",
    "8. The number query occurs at more than one position in cards.\n",
    "9. (can you think of any more variations?)\n",
    "\n",
    "* Edge Cases: It's likely that you didn't think of all of the above cases when you\n",
    "read the problem for the first time. Some of these (like the empty array or query\n",
    "not occurring in cards) are called edge cases, as they represent rare or extreme\n",
    "examples."
   ]
  },
  {
   "cell_type": "markdown",
   "metadata": {},
   "source": [
    "### test cases"
   ]
  },
  {
   "cell_type": "code",
   "execution_count": 1,
   "metadata": {},
   "outputs": [],
   "source": [
    "tests = []"
   ]
  },
  {
   "cell_type": "code",
   "execution_count": 2,
   "metadata": {},
   "outputs": [],
   "source": [
    "# query occurs in the middle\n",
    "test = {\n",
    "    'input': {\n",
    "        'cards': [13, 11, 10, 7, 4, 3,1,0],\n",
    "        'query': 7\n",
    "    },\n",
    "    'output': 3\n",
    "}\n",
    "tests.append(test)\n",
    "\n",
    "tests.append({\n",
    "'input': {\n",
    "'cards': [13, 11, 10, 7, 4, 3, 1, 0],\n",
    "'query': 1\n",
    "},\n",
    "'output': 6\n",
    "})\n",
    "\n",
    "# query is the first element\n",
    "tests.append({\n",
    "'input': {\n",
    "'cards': [4, 2, 1, -1],\n",
    "'query': 4\n",
    "},\n",
    "'output': 0\n",
    "})\n",
    "\n",
    "# query is the last element\n",
    "tests.append({\n",
    "'input': {\n",
    "'cards': [3, -1, -9, -127],\n",
    "'query': -127\n",
    "},\n",
    "'output': 3\n",
    "})\n",
    "\n",
    "#cards contains just one element, query\n",
    "tests.append({\n",
    "'input': {\n",
    "'cards': [6],\n",
    "'query': 6\n",
    "},\n",
    "'output': 0\n",
    "}) \n",
    "\n",
    "# cards does not contain query\n",
    "tests.append({\n",
    "'input': {\n",
    "'cards': [9, 7, 5, 2, -9],\n",
    "'query': 4\n",
    "},\n",
    "'output': -1\n",
    "}) \n",
    "\n",
    "# cards is empty\n",
    "tests.append({\n",
    "'input': {\n",
    "'cards': [],\n",
    "'query': 7\n",
    "},\n",
    "'output': -1\n",
    "})\n",
    "\n",
    "# numbers can repeat in cards\n",
    "tests.append({\n",
    "'input': {\n",
    "'cards': [7, 8, 6, 6, 6, 6, 6, 3, 2, 2, 2, 0, 0, 0],\n",
    "'query': 3\n",
    "},\n",
    "'output ' : 7\n",
    "}) \n",
    "\n",
    "# query occurs multiple times\n",
    "tests.append({\n",
    "'input': {\n",
    "'cards': [8, 8, 6, 6, 6, 6, 6, 6, 3, 2, 2, 2, 0, 0, 0],\n",
    "'query': 6\n",
    "},\n",
    "'output': 2\n",
    "})"
   ]
  },
  {
   "cell_type": "code",
   "execution_count": 3,
   "metadata": {},
   "outputs": [
    {
     "data": {
      "text/plain": [
       "[{'input': {'cards': [13, 11, 10, 7, 4, 3, 1, 0], 'query': 7}, 'output': 3},\n",
       " {'input': {'cards': [13, 11, 10, 7, 4, 3, 1, 0], 'query': 1}, 'output': 6},\n",
       " {'input': {'cards': [4, 2, 1, -1], 'query': 4}, 'output': 0},\n",
       " {'input': {'cards': [3, -1, -9, -127], 'query': -127}, 'output': 3},\n",
       " {'input': {'cards': [6], 'query': 6}, 'output': 0},\n",
       " {'input': {'cards': [9, 7, 5, 2, -9], 'query': 4}, 'output': -1},\n",
       " {'input': {'cards': [], 'query': 7}, 'output': -1},\n",
       " {'input': {'cards': [7, 8, 6, 6, 6, 6, 6, 3, 2, 2, 2, 0, 0, 0], 'query': 3},\n",
       "  'output ': 7},\n",
       " {'input': {'cards': [8, 8, 6, 6, 6, 6, 6, 6, 3, 2, 2, 2, 0, 0, 0],\n",
       "   'query': 6},\n",
       "  'output': 2}]"
      ]
     },
     "execution_count": 3,
     "metadata": {},
     "output_type": "execute_result"
    }
   ],
   "source": [
    "tests"
   ]
  },
  {
   "cell_type": "code",
   "execution_count": 4,
   "metadata": {},
   "outputs": [],
   "source": [
    "def locate_cards(cards, query):\n",
    "    ## Create a variable position with the value 0\n",
    "    position = 0\n",
    "\n",
    "    # Set up a loop for repetition\n",
    "    while True:\n",
    "        # Check if the element at the current position matche the querry\n",
    "        if cards[position] == query:\n",
    "            # Answer found! Return and exit..\n",
    "            return position\n",
    "        # Increment the postion\n",
    "        position +=1\n",
    "        # Check if we have reached the end of the array\n",
    "        if position == len(cards):\n",
    "            # Number not found , return -1\n",
    "            return -1"
   ]
  },
  {
   "cell_type": "code",
   "execution_count": 7,
   "metadata": {},
   "outputs": [
    {
     "name": "stdout",
     "output_type": "stream",
     "text": [
      "Test 0\n",
      "True\n",
      "Test 1\n",
      "True\n",
      "Test 2\n",
      "True\n",
      "Test 3\n",
      "True\n",
      "Test 4\n",
      "True\n",
      "Test 5\n",
      "True\n",
      "Test 6\n",
      "True\n",
      "Test 7\n",
      "True\n",
      "Test 8\n",
      "True\n"
     ]
    }
   ],
   "source": [
    "for i in range(len(tests)):\n",
    "    print(f\"Test {i}\")\n",
    "    print(locate_cards(**tests[0]['input']) == tests[0]['output'])"
   ]
  },
  {
   "cell_type": "code",
   "execution_count": 9,
   "metadata": {},
   "outputs": [
    {
     "data": {
      "text/plain": [
       "3"
      ]
     },
     "execution_count": 9,
     "metadata": {},
     "output_type": "execute_result"
    }
   ],
   "source": [
    "tests[0]['output']"
   ]
  },
  {
   "cell_type": "code",
   "execution_count": null,
   "metadata": {},
   "outputs": [],
   "source": []
  },
  {
   "cell_type": "code",
   "execution_count": null,
   "metadata": {},
   "outputs": [],
   "source": []
  }
 ],
 "metadata": {
  "kernelspec": {
   "display_name": "MCV_Server",
   "language": "python",
   "name": "python3"
  },
  "language_info": {
   "codemirror_mode": {
    "name": "ipython",
    "version": 3
   },
   "file_extension": ".py",
   "mimetype": "text/x-python",
   "name": "python",
   "nbconvert_exporter": "python",
   "pygments_lexer": "ipython3",
   "version": "3.9.17"
  }
 },
 "nbformat": 4,
 "nbformat_minor": 2
}
